{
 "cells": [
  {
   "cell_type": "markdown",
   "id": "1a1d6294",
   "metadata": {
    "papermill": {
     "duration": 0.006079,
     "end_time": "2024-06-29T13:28:58.974195",
     "exception": false,
     "start_time": "2024-06-29T13:28:58.968116",
     "status": "completed"
    },
    "tags": []
   },
   "source": [
    " I implemented a simple two-layer neural network and trained it on the MNIST digit recognizer dataset."
   ]
  },
  {
   "cell_type": "code",
   "execution_count": 1,
   "id": "0a46d58c",
   "metadata": {
    "execution": {
     "iopub.execute_input": "2024-06-29T13:28:58.987579Z",
     "iopub.status.busy": "2024-06-29T13:28:58.987099Z",
     "iopub.status.idle": "2024-06-29T13:28:59.872841Z",
     "shell.execute_reply": "2024-06-29T13:28:59.871702Z"
    },
    "papermill": {
     "duration": 0.896105,
     "end_time": "2024-06-29T13:28:59.876119",
     "exception": false,
     "start_time": "2024-06-29T13:28:58.980014",
     "status": "completed"
    },
    "tags": []
   },
   "outputs": [],
   "source": [
    "import numpy as np\n",
    "import pandas as pd\n",
    "from matplotlib import pyplot as plt"
   ]
  },
  {
   "cell_type": "code",
   "execution_count": 2,
   "id": "1689c7fc",
   "metadata": {
    "execution": {
     "iopub.execute_input": "2024-06-29T13:28:59.889300Z",
     "iopub.status.busy": "2024-06-29T13:28:59.888774Z",
     "iopub.status.idle": "2024-06-29T13:29:04.070335Z",
     "shell.execute_reply": "2024-06-29T13:29:04.068858Z"
    },
    "papermill": {
     "duration": 4.191435,
     "end_time": "2024-06-29T13:29:04.073369",
     "exception": false,
     "start_time": "2024-06-29T13:28:59.881934",
     "status": "completed"
    },
    "tags": []
   },
   "outputs": [],
   "source": [
    "data = pd.read_csv('/kaggle/input/data-sources/Digit Recognizer/train.csv')\n"
   ]
  },
  {
   "cell_type": "code",
   "execution_count": 3,
   "id": "4774c624",
   "metadata": {
    "execution": {
     "iopub.execute_input": "2024-06-29T13:29:04.090581Z",
     "iopub.status.busy": "2024-06-29T13:29:04.090179Z",
     "iopub.status.idle": "2024-06-29T13:29:04.972474Z",
     "shell.execute_reply": "2024-06-29T13:29:04.971306Z"
    },
    "papermill": {
     "duration": 0.894763,
     "end_time": "2024-06-29T13:29:04.975306",
     "exception": false,
     "start_time": "2024-06-29T13:29:04.080543",
     "status": "completed"
    },
    "tags": []
   },
   "outputs": [],
   "source": [
    "data = np.array(data)\n",
    "m, n = data.shape\n",
    "np.random.shuffle(data) # shuffle before splitting into dev and training sets\n",
    "\n",
    "data_dev = data[0:1000].T\n",
    "Y_dev = data_dev[0]\n",
    "X_dev = data_dev[1:n]\n",
    "X_dev = X_dev / 255.\n",
    "\n",
    "data_train = data[1000:m].T\n",
    "Y_train = data_train[0]\n",
    "X_train = data_train[1:n]\n",
    "X_train = X_train / 255.\n",
    "_,m_train = X_train.shape"
   ]
  },
  {
   "cell_type": "code",
   "execution_count": 4,
   "id": "6718785b",
   "metadata": {
    "execution": {
     "iopub.execute_input": "2024-06-29T13:29:04.988895Z",
     "iopub.status.busy": "2024-06-29T13:29:04.988505Z",
     "iopub.status.idle": "2024-06-29T13:29:04.997969Z",
     "shell.execute_reply": "2024-06-29T13:29:04.996854Z"
    },
    "papermill": {
     "duration": 0.018819,
     "end_time": "2024-06-29T13:29:05.000330",
     "exception": false,
     "start_time": "2024-06-29T13:29:04.981511",
     "status": "completed"
    },
    "tags": []
   },
   "outputs": [
    {
     "data": {
      "text/plain": [
       "array([9, 4, 5, ..., 7, 3, 6])"
      ]
     },
     "execution_count": 4,
     "metadata": {},
     "output_type": "execute_result"
    }
   ],
   "source": [
    "Y_train\n"
   ]
  },
  {
   "cell_type": "code",
   "execution_count": 5,
   "id": "1ddd1405",
   "metadata": {
    "execution": {
     "iopub.execute_input": "2024-06-29T13:29:05.014176Z",
     "iopub.status.busy": "2024-06-29T13:29:05.013746Z",
     "iopub.status.idle": "2024-06-29T13:29:05.028759Z",
     "shell.execute_reply": "2024-06-29T13:29:05.027652Z"
    },
    "papermill": {
     "duration": 0.024779,
     "end_time": "2024-06-29T13:29:05.031169",
     "exception": false,
     "start_time": "2024-06-29T13:29:05.006390",
     "status": "completed"
    },
    "tags": []
   },
   "outputs": [],
   "source": [
    "def init_params():\n",
    "    W1 = np.random.rand(10, 784) - 0.5\n",
    "    b1 = np.random.rand(10, 1) - 0.5\n",
    "    W2 = np.random.rand(10, 10) - 0.5\n",
    "    b2 = np.random.rand(10, 1) - 0.5\n",
    "    return W1, b1, W2, b2\n",
    "\n",
    "def ReLU(Z):\n",
    "    return np.maximum(Z, 0)\n",
    "\n",
    "def softmax(Z):\n",
    "    A = np.exp(Z) / sum(np.exp(Z))\n",
    "    return A\n",
    "    \n",
    "def forward_prop(W1, b1, W2, b2, X):\n",
    "    Z1 = W1.dot(X) + b1\n",
    "    A1 = ReLU(Z1)\n",
    "    Z2 = W2.dot(A1) + b2\n",
    "    A2 = softmax(Z2)\n",
    "    return Z1, A1, Z2, A2\n",
    "\n",
    "def ReLU_deriv(Z):\n",
    "    return Z > 0\n",
    "\n",
    "def one_hot(Y):\n",
    "    one_hot_Y = np.zeros((Y.size, Y.max() + 1))\n",
    "    one_hot_Y[np.arange(Y.size), Y] = 1\n",
    "    one_hot_Y = one_hot_Y.T\n",
    "    return one_hot_Y\n",
    "\n",
    "def backward_prop(Z1, A1, Z2, A2, W1, W2, X, Y):\n",
    "    one_hot_Y = one_hot(Y)\n",
    "    dZ2 = A2 - one_hot_Y\n",
    "    dW2 = 1 / m * dZ2.dot(A1.T)\n",
    "    db2 = 1 / m * np.sum(dZ2)\n",
    "    dZ1 = W2.T.dot(dZ2) * ReLU_deriv(Z1)\n",
    "    dW1 = 1 / m * dZ1.dot(X.T)\n",
    "    db1 = 1 / m * np.sum(dZ1)\n",
    "    return dW1, db1, dW2, db2\n",
    "\n",
    "def update_params(W1, b1, W2, b2, dW1, db1, dW2, db2, alpha):\n",
    "    W1 = W1 - alpha * dW1\n",
    "    b1 = b1 - alpha * db1    \n",
    "    W2 = W2 - alpha * dW2  \n",
    "    b2 = b2 - alpha * db2    \n",
    "    return W1, b1, W2, b2"
   ]
  },
  {
   "cell_type": "code",
   "execution_count": 6,
   "id": "b1218d25",
   "metadata": {
    "execution": {
     "iopub.execute_input": "2024-06-29T13:29:05.044586Z",
     "iopub.status.busy": "2024-06-29T13:29:05.044184Z",
     "iopub.status.idle": "2024-06-29T13:29:05.053803Z",
     "shell.execute_reply": "2024-06-29T13:29:05.052699Z"
    },
    "papermill": {
     "duration": 0.019027,
     "end_time": "2024-06-29T13:29:05.056219",
     "exception": false,
     "start_time": "2024-06-29T13:29:05.037192",
     "status": "completed"
    },
    "tags": []
   },
   "outputs": [],
   "source": [
    "def get_predictions(A2):\n",
    "    return np.argmax(A2, 0)\n",
    "\n",
    "def get_accuracy(predictions, Y):\n",
    "    print(predictions, Y)\n",
    "    return np.sum(predictions == Y) / Y.size\n",
    "\n",
    "def gradient_descent(X, Y, alpha, iterations):\n",
    "    W1, b1, W2, b2 = init_params()\n",
    "    for i in range(iterations):\n",
    "        Z1, A1, Z2, A2 = forward_prop(W1, b1, W2, b2, X)\n",
    "        dW1, db1, dW2, db2 = backward_prop(Z1, A1, Z2, A2, W1, W2, X, Y)\n",
    "        W1, b1, W2, b2 = update_params(W1, b1, W2, b2, dW1, db1, dW2, db2, alpha)\n",
    "        if i % 10 == 0:\n",
    "            print(\"Iteration: \", i)\n",
    "            predictions = get_predictions(A2)\n",
    "            print(get_accuracy(predictions, Y))\n",
    "    return W1, b1, W2, b2"
   ]
  },
  {
   "cell_type": "code",
   "execution_count": 7,
   "id": "e5b1f0c9",
   "metadata": {
    "execution": {
     "iopub.execute_input": "2024-06-29T13:29:05.070889Z",
     "iopub.status.busy": "2024-06-29T13:29:05.070507Z",
     "iopub.status.idle": "2024-06-29T13:30:05.552062Z",
     "shell.execute_reply": "2024-06-29T13:30:05.550516Z"
    },
    "papermill": {
     "duration": 60.494391,
     "end_time": "2024-06-29T13:30:05.556559",
     "exception": false,
     "start_time": "2024-06-29T13:29:05.062168",
     "status": "completed"
    },
    "tags": []
   },
   "outputs": [
    {
     "name": "stdout",
     "output_type": "stream",
     "text": [
      "Iteration:  0\n",
      "[9 9 6 ... 6 6 6] [9 4 5 ... 7 3 6]\n",
      "0.13053658536585366\n",
      "Iteration:  10\n",
      "[9 9 6 ... 6 3 6] [9 4 5 ... 7 3 6]\n",
      "0.15358536585365853\n",
      "Iteration:  20\n",
      "[9 9 6 ... 7 3 6] [9 4 5 ... 7 3 6]\n",
      "0.20202439024390245\n",
      "Iteration:  30\n",
      "[9 9 6 ... 7 3 6] [9 4 5 ... 7 3 6]\n",
      "0.27590243902439027\n",
      "Iteration:  40\n",
      "[9 1 6 ... 7 0 0] [9 4 5 ... 7 3 6]\n",
      "0.3153170731707317\n",
      "Iteration:  50\n",
      "[9 1 4 ... 7 0 6] [9 4 5 ... 7 3 6]\n",
      "0.3453170731707317\n",
      "Iteration:  60\n",
      "[9 1 4 ... 7 0 6] [9 4 5 ... 7 3 6]\n",
      "0.3795121951219512\n",
      "Iteration:  70\n",
      "[9 1 4 ... 7 3 6] [9 4 5 ... 7 3 6]\n",
      "0.43004878048780487\n",
      "Iteration:  80\n",
      "[9 9 4 ... 7 3 6] [9 4 5 ... 7 3 6]\n",
      "0.4735853658536585\n",
      "Iteration:  90\n",
      "[9 9 4 ... 7 3 6] [9 4 5 ... 7 3 6]\n",
      "0.5165121951219512\n",
      "Iteration:  100\n",
      "[9 9 4 ... 7 3 6] [9 4 5 ... 7 3 6]\n",
      "0.5567804878048781\n",
      "Iteration:  110\n",
      "[9 9 4 ... 7 3 6] [9 4 5 ... 7 3 6]\n",
      "0.5896829268292683\n",
      "Iteration:  120\n",
      "[9 9 4 ... 7 3 6] [9 4 5 ... 7 3 6]\n",
      "0.6183414634146341\n",
      "Iteration:  130\n",
      "[9 9 4 ... 7 3 6] [9 4 5 ... 7 3 6]\n",
      "0.6437073170731707\n",
      "Iteration:  140\n",
      "[9 9 5 ... 7 3 6] [9 4 5 ... 7 3 6]\n",
      "0.6658048780487805\n",
      "Iteration:  150\n",
      "[9 9 5 ... 7 3 6] [9 4 5 ... 7 3 6]\n",
      "0.6855365853658537\n",
      "Iteration:  160\n",
      "[9 9 5 ... 7 3 6] [9 4 5 ... 7 3 6]\n",
      "0.7014634146341463\n",
      "Iteration:  170\n",
      "[9 9 5 ... 7 3 6] [9 4 5 ... 7 3 6]\n",
      "0.7161463414634146\n",
      "Iteration:  180\n",
      "[9 9 5 ... 7 3 6] [9 4 5 ... 7 3 6]\n",
      "0.7275853658536585\n",
      "Iteration:  190\n",
      "[9 9 5 ... 7 3 6] [9 4 5 ... 7 3 6]\n",
      "0.7379268292682927\n",
      "Iteration:  200\n",
      "[9 4 5 ... 7 3 6] [9 4 5 ... 7 3 6]\n",
      "0.746390243902439\n",
      "Iteration:  210\n",
      "[9 4 5 ... 7 3 6] [9 4 5 ... 7 3 6]\n",
      "0.7546829268292683\n",
      "Iteration:  220\n",
      "[9 4 5 ... 7 3 6] [9 4 5 ... 7 3 6]\n",
      "0.762\n",
      "Iteration:  230\n",
      "[9 4 5 ... 7 3 6] [9 4 5 ... 7 3 6]\n",
      "0.7683414634146342\n",
      "Iteration:  240\n",
      "[9 4 5 ... 7 3 6] [9 4 5 ... 7 3 6]\n",
      "0.7756829268292683\n",
      "Iteration:  250\n",
      "[9 4 5 ... 7 3 6] [9 4 5 ... 7 3 6]\n",
      "0.7803414634146342\n",
      "Iteration:  260\n",
      "[9 4 5 ... 7 3 6] [9 4 5 ... 7 3 6]\n",
      "0.7850731707317073\n",
      "Iteration:  270\n",
      "[9 4 5 ... 7 3 6] [9 4 5 ... 7 3 6]\n",
      "0.7898048780487805\n",
      "Iteration:  280\n",
      "[9 4 5 ... 7 3 6] [9 4 5 ... 7 3 6]\n",
      "0.7944146341463415\n",
      "Iteration:  290\n",
      "[9 4 5 ... 9 3 6] [9 4 5 ... 7 3 6]\n",
      "0.7984146341463415\n",
      "Iteration:  300\n",
      "[4 4 5 ... 9 3 6] [9 4 5 ... 7 3 6]\n",
      "0.8022439024390244\n",
      "Iteration:  310\n",
      "[4 4 5 ... 9 3 6] [9 4 5 ... 7 3 6]\n",
      "0.805609756097561\n",
      "Iteration:  320\n",
      "[4 4 5 ... 9 3 6] [9 4 5 ... 7 3 6]\n",
      "0.8088536585365854\n",
      "Iteration:  330\n",
      "[4 4 5 ... 9 3 6] [9 4 5 ... 7 3 6]\n",
      "0.8115853658536586\n",
      "Iteration:  340\n",
      "[4 4 5 ... 9 3 6] [9 4 5 ... 7 3 6]\n",
      "0.8142682926829268\n",
      "Iteration:  350\n",
      "[4 4 5 ... 9 3 6] [9 4 5 ... 7 3 6]\n",
      "0.8172195121951219\n",
      "Iteration:  360\n",
      "[4 4 5 ... 9 3 6] [9 4 5 ... 7 3 6]\n",
      "0.8200243902439024\n",
      "Iteration:  370\n",
      "[4 4 5 ... 9 3 6] [9 4 5 ... 7 3 6]\n",
      "0.8222439024390243\n",
      "Iteration:  380\n",
      "[4 4 5 ... 9 3 6] [9 4 5 ... 7 3 6]\n",
      "0.8245365853658536\n",
      "Iteration:  390\n",
      "[4 4 5 ... 9 3 6] [9 4 5 ... 7 3 6]\n",
      "0.8267560975609756\n",
      "Iteration:  400\n",
      "[4 4 5 ... 9 3 6] [9 4 5 ... 7 3 6]\n",
      "0.8285365853658536\n",
      "Iteration:  410\n",
      "[4 4 5 ... 9 3 6] [9 4 5 ... 7 3 6]\n",
      "0.8303170731707317\n",
      "Iteration:  420\n",
      "[4 4 5 ... 9 3 6] [9 4 5 ... 7 3 6]\n",
      "0.8324878048780487\n",
      "Iteration:  430\n",
      "[4 4 5 ... 9 3 6] [9 4 5 ... 7 3 6]\n",
      "0.8339756097560975\n",
      "Iteration:  440\n",
      "[4 4 5 ... 9 3 6] [9 4 5 ... 7 3 6]\n",
      "0.8354634146341463\n",
      "Iteration:  450\n",
      "[4 4 5 ... 9 3 6] [9 4 5 ... 7 3 6]\n",
      "0.837\n",
      "Iteration:  460\n",
      "[4 4 5 ... 9 3 6] [9 4 5 ... 7 3 6]\n",
      "0.8384878048780487\n",
      "Iteration:  470\n",
      "[4 4 5 ... 9 3 6] [9 4 5 ... 7 3 6]\n",
      "0.839780487804878\n",
      "Iteration:  480\n",
      "[4 4 5 ... 9 3 6] [9 4 5 ... 7 3 6]\n",
      "0.8412926829268292\n",
      "Iteration:  490\n",
      "[4 4 5 ... 9 3 6] [9 4 5 ... 7 3 6]\n",
      "0.8427560975609756\n"
     ]
    }
   ],
   "source": [
    "W1, b1, W2, b2 = gradient_descent(X_train, Y_train, 0.10, 500)"
   ]
  },
  {
   "cell_type": "markdown",
   "id": "45dd204b",
   "metadata": {
    "papermill": {
     "duration": 0.021202,
     "end_time": "2024-06-29T13:30:05.599787",
     "exception": false,
     "start_time": "2024-06-29T13:30:05.578585",
     "status": "completed"
    },
    "tags": []
   },
   "source": [
    "~84% accuracy on training set.\n",
    "\n"
   ]
  },
  {
   "cell_type": "code",
   "execution_count": 8,
   "id": "9a40ffd8",
   "metadata": {
    "execution": {
     "iopub.execute_input": "2024-06-29T13:30:05.645472Z",
     "iopub.status.busy": "2024-06-29T13:30:05.644810Z",
     "iopub.status.idle": "2024-06-29T13:30:05.659349Z",
     "shell.execute_reply": "2024-06-29T13:30:05.657889Z"
    },
    "papermill": {
     "duration": 0.042795,
     "end_time": "2024-06-29T13:30:05.664133",
     "exception": false,
     "start_time": "2024-06-29T13:30:05.621338",
     "status": "completed"
    },
    "tags": []
   },
   "outputs": [],
   "source": [
    "def make_predictions(X, W1, b1, W2, b2):\n",
    "    _, _, _, A2 = forward_prop(W1, b1, W2, b2, X)\n",
    "    predictions = get_predictions(A2)\n",
    "    return predictions\n",
    "\n",
    "def test_prediction(index, W1, b1, W2, b2):\n",
    "    current_image = X_train[:, index, None]\n",
    "    prediction = make_predictions(X_train[:, index, None], W1, b1, W2, b2)\n",
    "    label = Y_train[index]\n",
    "    print(\"Prediction: \", prediction)\n",
    "    print(\"Label: \", label)\n",
    "    \n",
    "    current_image = current_image.reshape((28, 28)) * 255\n",
    "    plt.gray()\n",
    "    plt.imshow(current_image, interpolation='nearest')\n",
    "    plt.show()"
   ]
  },
  {
   "cell_type": "markdown",
   "id": "8588660b",
   "metadata": {
    "papermill": {
     "duration": 0.010046,
     "end_time": "2024-06-29T13:30:05.687655",
     "exception": false,
     "start_time": "2024-06-29T13:30:05.677609",
     "status": "completed"
    },
    "tags": []
   },
   "source": [
    "Let's look at a couple of examples:\n",
    "\n"
   ]
  },
  {
   "cell_type": "code",
   "execution_count": 9,
   "id": "bee19509",
   "metadata": {
    "execution": {
     "iopub.execute_input": "2024-06-29T13:30:05.710443Z",
     "iopub.status.busy": "2024-06-29T13:30:05.710058Z",
     "iopub.status.idle": "2024-06-29T13:30:06.697700Z",
     "shell.execute_reply": "2024-06-29T13:30:06.696467Z"
    },
    "papermill": {
     "duration": 1.002088,
     "end_time": "2024-06-29T13:30:06.700405",
     "exception": false,
     "start_time": "2024-06-29T13:30:05.698317",
     "status": "completed"
    },
    "tags": []
   },
   "outputs": [
    {
     "name": "stdout",
     "output_type": "stream",
     "text": [
      "Prediction:  [4]\n",
      "Label:  9\n"
     ]
    },
    {
     "data": {
      "image/png": "[encoded data removed]",
      "text/plain": [
       "<Figure size 640x480 with 1 Axes>"
      ]
     },
     "metadata": {},
     "output_type": "display_data"
    },
    {
     "name": "stdout",
     "output_type": "stream",
     "text": [
      "Prediction:  [4]\n",
      "Label:  4\n"
     ]
    },
    {
     "data": {
      "image/png": "[encoded data removed]",
      "text/plain": [
       "<Figure size 640x480 with 1 Axes>"
      ]
     },
     "metadata": {},
     "output_type": "display_data"
    },
    {
     "name": "stdout",
     "output_type": "stream",
     "text": [
      "Prediction:  [5]\n",
      "Label:  5\n"
     ]
    },
    {
     "data": {
      "image/png": "[encoded data removed]",
      "text/plain": [
       "<Figure size 640x480 with 1 Axes>"
      ]
     },
     "metadata": {},
     "output_type": "display_data"
    },
    {
     "name": "stdout",
     "output_type": "stream",
     "text": [
      "Prediction:  [7]\n",
      "Label:  7\n"
     ]
    },
    {
     "data": {
      "image/png": "[encoded data removed]",
      "text/plain": [
       "<Figure size 640x480 with 1 Axes>"
      ]
     },
     "metadata": {},
     "output_type": "display_data"
    }
   ],
   "source": [
    "test_prediction(0, W1, b1, W2, b2)\n",
    "test_prediction(1, W1, b1, W2, b2)\n",
    "test_prediction(2, W1, b1, W2, b2)\n",
    "test_prediction(3, W1, b1, W2, b2)"
   ]
  },
  {
   "cell_type": "markdown",
   "id": "80c64ddc",
   "metadata": {
    "papermill": {
     "duration": 0.011453,
     "end_time": "2024-06-29T13:30:06.724324",
     "exception": false,
     "start_time": "2024-06-29T13:30:06.712871",
     "status": "completed"
    },
    "tags": []
   },
   "source": [
    "Finally, let's find the accuracy on the dev set:\n",
    "\n"
   ]
  },
  {
   "cell_type": "code",
   "execution_count": 10,
   "id": "3450d913",
   "metadata": {
    "execution": {
     "iopub.execute_input": "2024-06-29T13:30:06.750831Z",
     "iopub.status.busy": "2024-06-29T13:30:06.749635Z",
     "iopub.status.idle": "2024-06-29T13:30:06.781416Z",
     "shell.execute_reply": "2024-06-29T13:30:06.780291Z"
    },
    "papermill": {
     "duration": 0.052186,
     "end_time": "2024-06-29T13:30:06.788434",
     "exception": false,
     "start_time": "2024-06-29T13:30:06.736248",
     "status": "completed"
    },
    "tags": []
   },
   "outputs": [
    {
     "name": "stdout",
     "output_type": "stream",
     "text": [
      "[3 5 6 8 1 2 3 9 9 5 4 6 1 0 1 0 3 3 0 6 5 1 8 0 1 3 8 4 5 8 0 4 2 5 5 9 4\n",
      " 4 7 1 0 7 9 8 8 7 5 2 6 8 3 6 8 0 1 8 5 8 6 1 2 0 2 1 8 1 4 8 9 4 8 6 9 3\n",
      " 3 1 8 1 6 1 3 4 6 8 9 1 5 7 4 7 4 6 3 3 2 1 8 9 9 8 9 0 6 4 4 7 8 8 3 4 9\n",
      " 1 4 5 8 1 6 9 0 3 3 9 0 9 1 2 6 9 8 5 6 9 0 5 6 9 2 8 6 8 6 2 4 5 1 2 0 9\n",
      " 7 9 3 4 2 9 3 1 8 1 4 6 9 9 8 9 4 3 4 3 9 8 4 1 0 7 6 1 2 7 4 6 0 2 0 3 7\n",
      " 4 7 7 2 1 7 5 8 3 3 4 3 4 7 1 3 6 2 7 3 1 6 5 2 8 8 9 4 0 5 2 0 3 5 1 7 1\n",
      " 0 0 5 3 0 9 1 7 3 7 9 3 8 8 5 1 1 2 7 3 3 7 6 4 8 6 8 8 6 1 9 4 9 4 6 7 8\n",
      " 2 7 7 0 6 0 2 5 7 4 9 2 9 6 5 3 3 5 8 5 3 0 7 5 2 0 1 6 0 7 9 0 7 6 8 1 1\n",
      " 0 6 1 5 2 3 1 2 7 6 3 6 4 9 7 8 2 7 2 7 7 8 5 0 7 9 3 9 9 9 3 1 6 9 0 1 2\n",
      " 5 0 7 8 0 3 2 6 1 6 9 2 3 5 2 6 9 9 9 0 2 2 0 1 5 1 9 4 8 6 6 7 0 1 1 1 2\n",
      " 0 6 1 7 9 8 2 5 3 8 3 6 9 5 6 1 8 9 7 4 1 2 1 3 0 9 7 6 2 1 1 6 7 4 2 9 4\n",
      " 9 7 5 6 2 1 2 8 9 7 3 4 0 4 7 6 6 9 8 2 5 8 1 5 8 2 1 2 5 8 1 8 2 0 2 2 7\n",
      " 3 6 1 4 1 6 9 6 5 7 5 7 1 6 1 5 4 7 2 9 9 2 6 0 2 9 3 2 9 5 4 0 0 0 5 5 4\n",
      " 3 9 1 6 0 3 7 6 9 3 7 5 0 3 3 7 3 0 2 4 5 2 3 9 3 7 3 3 3 1 3 9 9 6 8 1 4\n",
      " 8 4 0 6 8 3 4 2 6 8 8 8 9 2 2 1 0 7 5 4 5 8 7 2 5 6 5 2 4 7 0 7 8 9 9 7 1\n",
      " 5 5 3 5 5 7 9 7 9 8 7 3 4 7 7 0 7 8 1 3 0 1 0 0 3 6 8 2 6 8 4 4 5 6 7 4 5\n",
      " 1 8 4 3 5 2 7 2 7 4 3 8 9 9 1 7 4 6 1 6 9 9 9 6 7 4 0 5 9 2 0 4 7 7 7 6 1\n",
      " 8 4 8 0 5 6 8 0 7 6 4 4 9 1 4 8 6 2 9 7 9 2 9 9 2 8 7 0 2 2 4 4 1 6 3 8 5\n",
      " 6 9 4 1 1 2 6 6 8 5 4 1 1 5 9 0 0 5 6 0 7 5 1 2 5 0 4 8 3 2 1 8 5 6 4 3 0\n",
      " 5 5 8 7 7 2 7 4 2 6 4 2 2 5 7 7 7 2 2 7 1 0 9 9 3 3 3 4 5 0 5 3 8 9 4 6 9\n",
      " 6 4 4 7 4 0 1 1 7 0 4 3 2 2 1 2 8 3 8 0 2 9 0 7 6 9 7 9 0 0 1 4 5 3 6 0 3\n",
      " 6 5 1 6 8 0 8 8 6 9 3 6 7 9 9 0 8 2 4 0 8 4 9 7 6 9 0 8 2 0 1 9 0 7 0 5 1\n",
      " 0 6 6 7 4 7 3 3 9 1 4 1 5 9 4 4 4 5 1 9 4 6 1 3 0 0 9 5 9 5 1 8 1 2 0 3 5\n",
      " 8 4 2 1 7 1 0 3 9 3 1 2 9 9 2 1 5 2 6 5 1 3 1 5 1 2 1 8 4 7 1 5 9 1 3 4 6\n",
      " 5 6 9 9 3 7 1 7 9 5 1 2 1 6 4 7 8 3 5 3 2 5 1 9 0 1 7 1 3 6 2 3 9 1 9 0 1\n",
      " 4 6 6 8 0 1 1 1 0 6 1 1 8 6 1 0 2 5 2 0 8 0 7 5 6 0 8 4 1 2 7 4 7 2 9 5 9\n",
      " 2 7 0 0 2 9 6 4 7 0 1 3 3 4 0 6 2 8 1 8 4 2 6 8 8 8 3 5 3 1 8 2 8 1 0 2 2\n",
      " 4] [3 5 6 9 1 2 3 9 4 3 4 6 1 0 1 0 3 3 0 6 2 1 8 6 1 3 8 4 6 8 0 4 2 5 5 9 9\n",
      " 4 7 1 0 7 7 8 3 0 5 7 6 8 3 6 3 0 1 8 5 8 6 1 2 0 2 1 8 1 4 8 9 4 8 2 7 2\n",
      " 3 1 1 1 6 1 3 4 6 8 9 1 5 7 4 7 4 6 3 2 3 1 3 4 4 3 9 0 6 6 4 7 3 8 3 4 7\n",
      " 1 9 5 1 1 6 9 0 3 3 9 0 9 1 2 6 9 8 5 6 9 0 5 6 9 2 8 6 8 6 2 4 5 1 3 0 9\n",
      " 7 9 3 4 2 9 3 1 8 1 4 6 9 9 8 9 4 3 9 3 9 8 4 1 0 7 6 1 2 9 4 6 0 2 6 3 7\n",
      " 4 7 7 1 1 7 5 8 2 3 4 8 4 7 1 3 6 2 0 3 1 5 3 2 8 3 9 4 0 5 2 0 5 5 1 7 7\n",
      " 0 0 5 3 0 1 1 7 3 7 5 3 8 8 5 1 1 2 7 3 3 7 6 4 8 6 8 8 6 1 9 6 9 9 4 7 8\n",
      " 2 7 7 0 6 0 2 5 7 4 4 2 9 6 5 3 3 5 7 5 8 0 7 3 4 0 1 5 0 7 9 0 7 6 8 1 1\n",
      " 0 6 5 5 2 3 1 2 7 6 3 6 4 9 7 8 2 7 2 7 7 8 5 0 7 9 3 9 9 9 3 1 6 4 0 1 2\n",
      " 5 5 7 8 0 3 2 6 1 6 7 2 3 5 2 2 4 9 9 0 2 3 0 1 5 2 7 9 8 6 6 7 0 1 1 1 2\n",
      " 0 6 1 7 9 8 2 5 5 8 3 2 9 8 6 1 8 9 7 4 1 2 1 5 0 9 7 6 2 1 1 6 9 7 2 4 4\n",
      " 9 7 5 2 2 1 3 5 9 7 3 4 0 4 7 6 6 9 8 2 0 8 1 5 8 6 1 2 5 8 1 8 2 0 2 2 7\n",
      " 3 6 1 6 1 6 9 6 5 7 5 7 1 6 1 1 4 7 2 4 9 2 2 0 2 9 3 2 9 5 4 0 0 0 5 8 8\n",
      " 3 9 1 6 5 3 7 6 9 3 7 6 0 3 3 7 3 0 2 9 5 2 3 9 3 7 3 3 3 1 2 9 9 6 8 5 4\n",
      " 4 4 0 6 8 5 6 2 6 8 8 8 9 2 2 1 0 7 0 4 5 7 9 2 0 6 6 2 4 7 0 7 8 9 9 7 1\n",
      " 5 8 3 5 5 7 9 7 9 3 7 3 4 7 7 0 9 8 1 3 0 1 0 0 3 6 8 2 6 8 4 4 5 6 7 4 5\n",
      " 1 8 4 8 6 2 7 2 7 4 8 8 4 9 1 7 4 2 1 6 9 7 4 6 7 4 3 5 9 2 0 4 7 7 7 6 1\n",
      " 5 4 5 0 5 5 8 0 7 6 4 4 9 1 4 8 6 2 9 7 9 2 2 9 2 8 7 0 2 2 4 6 1 6 2 8 5\n",
      " 6 9 4 8 1 2 6 6 8 5 9 1 1 5 9 0 0 5 6 0 5 5 1 5 5 0 4 8 3 2 1 5 5 6 4 3 0\n",
      " 5 3 8 5 7 2 7 4 2 6 4 2 2 5 7 3 7 3 2 7 1 0 9 9 3 3 3 4 5 0 5 5 8 4 4 6 9\n",
      " 6 4 4 3 4 0 1 1 7 0 4 3 6 2 1 2 2 3 8 0 6 9 0 7 6 9 7 9 0 0 1 4 5 2 6 0 3\n",
      " 6 5 1 6 9 0 0 8 6 2 3 6 9 9 9 0 8 2 4 0 8 4 9 7 6 7 0 8 2 0 1 9 0 7 6 2 1\n",
      " 5 6 6 7 6 7 3 8 9 1 4 1 5 9 5 4 4 5 1 9 9 6 1 9 0 0 9 5 5 5 1 8 1 2 0 3 5\n",
      " 8 4 2 1 7 1 0 3 9 3 1 2 9 9 2 1 5 2 4 8 1 8 1 0 1 2 2 8 4 7 1 5 9 1 3 4 6\n",
      " 5 2 9 9 3 7 1 7 9 5 1 2 1 6 4 7 7 3 5 8 2 5 1 9 0 1 7 1 3 6 2 3 8 1 9 0 1\n",
      " 9 6 2 8 0 1 1 1 0 6 1 2 8 6 1 0 2 3 2 6 8 0 5 6 6 0 8 4 1 8 7 4 7 2 9 3 9\n",
      " 2 7 0 0 2 9 6 4 7 0 5 3 3 4 0 6 2 8 1 5 9 2 6 9 8 8 3 5 3 1 8 2 8 1 0 8 2\n",
      " 4]\n"
     ]
    },
    {
     "data": {
      "text/plain": [
       "0.838"
      ]
     },
     "execution_count": 10,
     "metadata": {},
     "output_type": "execute_result"
    }
   ],
   "source": [
    "dev_predictions = make_predictions(X_dev, W1, b1, W2, b2)\n",
    "get_accuracy(dev_predictions, Y_dev)"
   ]
  },
  {
   "cell_type": "markdown",
   "id": "5fabe0fe",
   "metadata": {
    "papermill": {
     "duration": 0.025581,
     "end_time": "2024-06-29T13:30:06.839915",
     "exception": false,
     "start_time": "2024-06-29T13:30:06.814334",
     "status": "completed"
    },
    "tags": []
   },
   "source": [
    "Still 83% accuracy, so our model generalized from the training data pretty well."
   ]
  },
  {
   "cell_type": "code",
   "execution_count": null,
   "id": "fb0b9c0a",
   "metadata": {
    "papermill": {
     "duration": 0.018965,
     "end_time": "2024-06-29T13:30:06.885682",
     "exception": false,
     "start_time": "2024-06-29T13:30:06.866717",
     "status": "completed"
    },
    "tags": []
   },
   "outputs": [],
   "source": []
  }
 ],
 "metadata": {
  "kaggle": {
   "accelerator": "none",
   "dataSources": [
    {
     "datasetId": 5304780,
     "sourceId": 8818032,
     "sourceType": "datasetVersion"
    }
   ],
   "dockerImageVersionId": 30732,
   "isGpuEnabled": false,
   "isInternetEnabled": false,
   "language": "python",
   "sourceType": "notebook"
  },
  "kernelspec": {
   "display_name": "Python 3",
   "language": "python",
   "name": "python3"
  },
  "language_info": {
   "codemirror_mode": {
    "name": "ipython",
    "version": 3
   },
   "file_extension": ".py",
   "mimetype": "text/x-python",
   "name": "python",
   "nbconvert_exporter": "python",
   "pygments_lexer": "ipython3",
   "version": "3.10.13"
  },
  "papermill": {
   "default_parameters": {},
   "duration": 71.707145,
   "end_time": "2024-06-29T13:30:07.420224",
   "environment_variables": {},
   "exception": null,
   "input_path": "__notebook__.ipynb",
   "output_path": "__notebook__.ipynb",
   "parameters": {},
   "start_time": "2024-06-29T13:28:55.713079",
   "version": "2.5.0"
  }
 },
 "nbformat": 4,
 "nbformat_minor": 5
}
